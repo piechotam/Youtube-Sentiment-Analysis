{
 "cells": [
  {
   "cell_type": "code",
   "execution_count": 30,
   "metadata": {},
   "outputs": [],
   "source": [
    "import sys\n",
    "import os\n",
    "import random\n",
    "import warnings\n",
    "warnings.filterwarnings('ignore')\n",
    "\n",
    "import pickle\n",
    "import matplotlib.pyplot as plt\n",
    "from nltk.stem import PorterStemmer, WordNetLemmatizer\n",
    "from sklearn.feature_extraction.text import CountVectorizer, TfidfTransformer\n",
    "\n",
    "sys.path.insert(0, os.path.abspath(os.path.join(\"..\", \"src\")))\n",
    "from exploration import find_tweet_with_pattern\n",
    "from processing import read_and_split, clean_text, tokenize, extract_correct_words, remove_stop_words, extract_lemma\n",
    "from processing_helpers import TyposReplacer, TweetProcessor"
   ]
  },
  {
   "cell_type": "markdown",
   "metadata": {},
   "source": [
    "## Loading and spliting the dataset"
   ]
  },
  {
   "cell_type": "markdown",
   "metadata": {},
   "source": [
    "We load the dataset and split it into training and test sets, with 80% of the data going to the training set. Then we split the training set into training and validation sets with the same ratio. The implementation of the function read_and_split can be found in src/processing.py."
   ]
  },
  {
   "cell_type": "code",
   "execution_count": 2,
   "metadata": {},
   "outputs": [],
   "source": [
    "X_train, y_train, X_valid, y_valid, _, _ = read_and_split('../data/tweets.csv')"
   ]
  },
  {
   "cell_type": "markdown",
   "metadata": {},
   "source": [
    "## Exploration"
   ]
  },
  {
   "cell_type": "markdown",
   "metadata": {},
   "source": [
    "## Target classes distribution"
   ]
  },
  {
   "cell_type": "code",
   "execution_count": 3,
   "metadata": {},
   "outputs": [
    {
     "data": {
      "image/png": "[encoded data removed]",
      "text/plain": [
       "<Figure size 640x480 with 1 Axes>"
      ]
     },
     "metadata": {},
     "output_type": "display_data"
    }
   ],
   "source": [
    "# create plot of class distribution\n",
    "fig, ax = plt.subplots()\n",
    "y_train.value_counts().plot(kind='bar', ax=ax)\n",
    "ax.set_title('Class distribution in training data')\n",
    "ax.set_xlabel('Class')\n",
    "ax.set_ylabel('Number of tweets')\n",
    "plt.show()"
   ]
  },
  {
   "cell_type": "markdown",
   "metadata": {},
   "source": [
    "Both classes are equally represented in the dataset."
   ]
  },
  {
   "cell_type": "markdown",
   "metadata": {},
   "source": [
    "## Exploring tweets"
   ]
  },
  {
   "cell_type": "markdown",
   "metadata": {},
   "source": [
    "By sampling examples from the dataset, one can quickly find potential issues, anomalies, and regularities. We use a simple function for finding patterns, which we show below. Its implementation can be found in src/exploration.py."
   ]
  },
  {
   "cell_type": "markdown",
   "metadata": {},
   "source": [
    "In many tweets, we can find emojis, which are really important in our use case as they carry information about emotion. Later, we will replace all positive and negative emojis with tags EMO_POS and EMO_NEG, respectively."
   ]
  },
  {
   "cell_type": "code",
   "execution_count": 16,
   "metadata": {},
   "outputs": [
    {
     "name": "stdout",
     "output_type": "stream",
     "text": [
      "@Number1Huggles Yep - the right job for me is out there and on its way to me :-D Positive things happen to positive people  x Hows u? x\n"
     ]
    }
   ],
   "source": [
    "tweet_with_emoji = find_tweet_with_pattern(X_train, \":-D\")\n",
    "print(tweet_with_emoji)"
   ]
  },
  {
   "cell_type": "markdown",
   "metadata": {},
   "source": [
    "Hashtags and mentions also often appear in our dataset, which is quite obvious since we use Twitter data. During the processing stage, we replace them with the tags HASH and USR_MEN."
   ]
  },
  {
   "cell_type": "code",
   "execution_count": 22,
   "metadata": {},
   "outputs": [
    {
     "name": "stdout",
     "output_type": "stream",
     "text": [
      "Thank you my friend  @jodymal #FollowFriday\n"
     ]
    }
   ],
   "source": [
    "tweet_with_ment_and_hash = find_tweet_with_pattern(X_train, \"@[\\w]+.*#[\\w]+\")\n",
    "print(tweet_with_ment_and_hash)"
   ]
  },
  {
   "cell_type": "markdown",
   "metadata": {},
   "source": [
    "We also replace every occurrence of a URL with the tag URL."
   ]
  },
  {
   "cell_type": "code",
   "execution_count": 24,
   "metadata": {},
   "outputs": [
    {
     "name": "stdout",
     "output_type": "stream",
     "text": [
      "Free Chocolate Fridays thanks to #mars. Secure your free chocolate here https://secure.realchocolate.com/ before there gone \n"
     ]
    }
   ],
   "source": [
    "tweet_with_url = find_tweet_with_pattern(X_train, \"https\")\n",
    "print(tweet_with_url)"
   ]
  },
  {
   "cell_type": "markdown",
   "metadata": {},
   "source": [
    "# Processing"
   ]
  },
  {
   "cell_type": "markdown",
   "metadata": {},
   "source": [
    "All functions used in processing stage can be found in src/processing.py."
   ]
  },
  {
   "cell_type": "markdown",
   "metadata": {},
   "source": [
    "## Text cleaning\n",
    "This will include transforming text to lowercase, replacing emojis, mentions, hashtags and URLs, replacing multiple spaces with a single space and fixing common typos."
   ]
  },
  {
   "cell_type": "code",
   "execution_count": 13,
   "metadata": {},
   "outputs": [
    {
     "name": "stdout",
     "output_type": "stream",
     "text": [
      "Before: @sarahmarina Okay...I loooove the Celtics even before I loved NKOTB... but the Lakers outfits on them are too funny!!!!  Awesome! \n",
      "After: USR_MEN okay...i loooove the celtics even before i loved nkotb... but the lakers outfits on them are too funny!!!! awesome!\n"
     ]
    }
   ],
   "source": [
    "example_tweet = X_train.iloc[random.randint(0, len(X_train) - 1)]['text']\n",
    "after_cleaning = clean_text(example_tweet)\n",
    "typos_replacer = TyposReplacer()\n",
    "after_processing = typos_replacer.replace(after_cleaning)\n",
    "\n",
    "print(f'Before: {example_tweet} \\nAfter: {after_processing}')"
   ]
  },
  {
   "cell_type": "markdown",
   "metadata": {},
   "source": [
    "## Tokenization"
   ]
  },
  {
   "cell_type": "markdown",
   "metadata": {},
   "source": [
    "Tokenization is the process of splitting text into individual words or tokens. After tokenization we extract tokens that consist only of only alphabetic characters and remove duplicate letters (more than 2 consecutive)."
   ]
  },
  {
   "cell_type": "code",
   "execution_count": null,
   "metadata": {},
   "outputs": [],
   "source": [
    "#nltk.download('punkt')"
   ]
  },
  {
   "cell_type": "code",
   "execution_count": 14,
   "metadata": {},
   "outputs": [
    {
     "name": "stdout",
     "output_type": "stream",
     "text": [
      "Before: USR_MEN okay...i loooove the celtics even before i loved nkotb... but the lakers outfits on them are too funny!!!! awesome! \n",
      "After: ['USR_MEN', 'okay', 'i', 'loove', 'the', 'celtics', 'even', 'before', 'i', 'loved', 'nkotb', 'but', 'the', 'lakers', 'outfits', 'on', 'them', 'are', 'too', 'funny', 'awesome']\n"
     ]
    }
   ],
   "source": [
    "after_tokenization = tokenize(after_processing)\n",
    "words_extracted = extract_correct_words(after_tokenization)\n",
    "print(f'Before: {after_processing} \\nAfter: {words_extracted}')"
   ]
  },
  {
   "cell_type": "markdown",
   "metadata": {},
   "source": [
    "## Removing stop words"
   ]
  },
  {
   "cell_type": "markdown",
   "metadata": {},
   "source": [
    "Stop words are considered to have little semantic value because they are so frequent and do not contribute significantly to the meaning or the structure of the text. Examples of stop words in English include \"the\" \"is\" \"in\" \"and\" \"a\" \"an\" and \"of.\"\n",
    "\n",
    "Removing stop words can help reduce the dimensionality of the data and improve the performance the model by focusing on the more meaningful words that are more likely to carry important information."
   ]
  },
  {
   "cell_type": "code",
   "execution_count": null,
   "metadata": {},
   "outputs": [],
   "source": [
    "#nltk.download('stopwords')\n",
    "#nltk.download('wordnet')"
   ]
  },
  {
   "cell_type": "code",
   "execution_count": 15,
   "metadata": {},
   "outputs": [
    {
     "name": "stdout",
     "output_type": "stream",
     "text": [
      "Before: ['USR_MEN', 'okay', 'i', 'loove', 'the', 'celtics', 'even', 'before', 'i', 'loved', 'nkotb', 'but', 'the', 'lakers', 'outfits', 'on', 'them', 'are', 'too', 'funny', 'awesome'] \n",
      "After: ['USR_MEN', 'okay', 'loove', 'celtics', 'even', 'loved', 'nkotb', 'lakers', 'outfits', 'funny', 'awesome']\n"
     ]
    }
   ],
   "source": [
    "after_filtration = remove_stop_words(words_extracted)\n",
    "print(f'Before: {words_extracted} \\nAfter: {after_filtration}')"
   ]
  },
  {
   "cell_type": "markdown",
   "metadata": {},
   "source": [
    "## Stemming / Lemmatizing"
   ]
  },
  {
   "cell_type": "markdown",
   "metadata": {},
   "source": [
    "Stemming is a text preprocessing technique used in natural language processing (NLP) to reduce words to their base or root form. It involves removing suffixes from words to obtain the stem, which may not always be a valid word itself. The purpose of stemming is to normalize words and reduce them to a common form, so that variations of the same word can be treated as the same word during analysis.\n",
    "\n",
    "Lemmatization is a similar process with its advantages, but it comes at the price of being more resource-consuming."
   ]
  },
  {
   "cell_type": "code",
   "execution_count": 16,
   "metadata": {},
   "outputs": [
    {
     "name": "stdout",
     "output_type": "stream",
     "text": [
      "Before: ['USR_MEN', 'okay', 'loove', 'celtics', 'even', 'loved', 'nkotb', 'lakers', 'outfits', 'funny', 'awesome'] \n",
      "After: ['USR_MEN', 'okay', 'loove', 'celtic', 'even', 'loved', 'nkotb', 'lakers', 'outfit', 'funny', 'awesome']\n"
     ]
    }
   ],
   "source": [
    "lemmatizer = WordNetLemmatizer()\n",
    "after_extraction = extract_lemma(after_filtration, lemmatizer)\n",
    "print(f'Before: {after_filtration} \\nAfter: {after_extraction}')"
   ]
  },
  {
   "cell_type": "markdown",
   "metadata": {},
   "source": [
    "## Processing dataset"
   ]
  },
  {
   "cell_type": "code",
   "execution_count": 12,
   "metadata": {},
   "outputs": [],
   "source": [
    "typos_replacer = TyposReplacer()\n",
    "lemmatizer = WordNetLemmatizer()\n",
    "\n",
    "tweet_processor = TweetProcessor(typos_replacer, lemmatizer)\n",
    "X_train = X_train.apply(tweet_processor.process_tweet)"
   ]
  },
  {
   "cell_type": "code",
   "execution_count": 14,
   "metadata": {},
   "outputs": [
    {
     "data": {
      "text/plain": [
       "1370443                     night dance know dancing machine\n",
       "1301249                     back gym excellent workout happy\n",
       "94491                USR_MEN little fella mind not nice laff\n",
       "407255           chillin getting drunk im fighting wit juvie\n",
       "429625                                   footy fun ahh study\n",
       "                                 ...                        \n",
       "719998     actually got rockin gift USR_MEN father day ho...\n",
       "420883     USR_MEN sorry message look like default one th...\n",
       "1336659              thankfully getting cooler teatime yeeha\n",
       "1430981           ah totally miss roomy USR_MEN USR_MEN well\n",
       "298949                               aww surpise find cookie\n",
       "Name: text, Length: 1023999, dtype: object"
      ]
     },
     "execution_count": 14,
     "metadata": {},
     "output_type": "execute_result"
    }
   ],
   "source": [
    "X_train"
   ]
  },
  {
   "cell_type": "code",
   "execution_count": 33,
   "metadata": {},
   "outputs": [],
   "source": [
    "X_train.to_pickle('../models/processed_train.pkl')"
   ]
  },
  {
   "cell_type": "markdown",
   "metadata": {},
   "source": [
    "# Converting to feature vectors"
   ]
  },
  {
   "cell_type": "markdown",
   "metadata": {},
   "source": [
    "## Bag of Words"
   ]
  },
  {
   "cell_type": "markdown",
   "metadata": {},
   "source": [
    "Bag of Words is a text representation technique used in natural language processing. It involves creating a vocabulary of unique words from a corpus of text documents and representing each document as a vector of word frequencies. In the Bag of Words model, the order and structure of the words are disregarded, and only the occurrence of words is considered."
   ]
  },
  {
   "cell_type": "code",
   "execution_count": 21,
   "metadata": {},
   "outputs": [],
   "source": [
    "count_vectorizer = CountVectorizer(\n",
    "    lowercase=False, #already lowercase\n",
    "    ngram_range=(1,2), #both uni- and bi- grams\n",
    "    max_df=0.93\n",
    ")\n",
    "\n",
    "train_data_fitted = count_vectorizer.fit(X_train)"
   ]
  },
  {
   "cell_type": "code",
   "execution_count": 29,
   "metadata": {},
   "outputs": [],
   "source": [
    "train_data_features = count_vectorizer.transform(X_train)"
   ]
  },
  {
   "cell_type": "code",
   "execution_count": 34,
   "metadata": {},
   "outputs": [],
   "source": [
    "pickle.dump(train_data_features, open('../models/features.pkl', 'wb'))"
   ]
  },
  {
   "cell_type": "markdown",
   "metadata": {},
   "source": [
    "## TF-IDF"
   ]
  },
  {
   "cell_type": "markdown",
   "metadata": {},
   "source": [
    "TF-IDF is a statistical measure used in Natural Language Processing to evaluate the importance of a word in a document relative to a collection of documents.\n",
    "\n",
    "1. **Term Frequency (TF):**\n",
    "   - Measures how frequently a term appears in a document.\n",
    "   - Formula: \n",
    "     $$\n",
    "     \\text{TF}(t, d) = \\frac{\\text{Number of times term } t \\text{ appears in document } d}{\\text{Total number of terms in document } d}\n",
    "     $$\n",
    "   \n",
    "2. **Inverse Document Frequency (IDF):**\n",
    "   - Measures how important a term is within the entire corpus.\n",
    "   - Formula: \n",
    "     $$\n",
    "     \\text{IDF}(t, D) = \\log \\left( \\frac{\\text{Total number of documents in the corpus}}{\\text{Number of documents containing the term } t} \\right)\n",
    "     $$\n",
    "   \n",
    "3. **TF-IDF Score:**\n",
    "   - Combines TF and IDF to compute a weight for each term in a document.\n",
    "   - Formula: \n",
    "     $$\n",
    "     \\text{TF-IDF}(t, d, D) = \\text{TF}(t, d) \\times \\text{IDF}(t, D)\n",
    "     $$"
   ]
  },
  {
   "cell_type": "markdown",
   "metadata": {},
   "source": [
    "We can directly transform our previous matrix into tfidf representation using a dedicated transformer."
   ]
  },
  {
   "cell_type": "code",
   "execution_count": 32,
   "metadata": {},
   "outputs": [],
   "source": [
    "tfidf_transformer = TfidfTransformer()\n",
    "\n",
    "train_data_features_tfidf = tfidf_transformer.fit_transform(train_data_features)"
   ]
  },
  {
   "cell_type": "code",
   "execution_count": 33,
   "metadata": {},
   "outputs": [],
   "source": [
    "pickle.dump(train_data_features, open('../models/features_tfidf.pkl', 'wb'))"
   ]
  }
 ],
 "metadata": {
  "kernelspec": {
   "display_name": "venv",
   "language": "python",
   "name": "python3"
  },
  "language_info": {
   "codemirror_mode": {
    "name": "ipython",
    "version": 3
   },
   "file_extension": ".py",
   "mimetype": "text/x-python",
   "name": "python",
   "nbconvert_exporter": "python",
   "pygments_lexer": "ipython3",
   "version": "3.10.12"
  }
 },
 "nbformat": 4,
 "nbformat_minor": 2
}
