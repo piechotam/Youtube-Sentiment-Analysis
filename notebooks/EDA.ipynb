{
 "cells": [
  {
   "cell_type": "code",
   "execution_count": 1,
   "metadata": {},
   "outputs": [],
   "source": [
    "import sys\n",
    "import os\n",
    "import random\n",
    "import warnings\n",
    "warnings.filterwarnings('ignore')\n",
    "\n",
    "import pandas as pd\n",
    "import matplotlib.pyplot as plt\n",
    "\n",
    "sys.path.insert(0, os.path.abspath(os.path.join(\"..\", \"src\")))\n",
    "from processing import read_and_split, clean_text, tokenize, extract_correct_words, remove_stop_words, stem_words"
   ]
  },
  {
   "cell_type": "code",
   "execution_count": 2,
   "metadata": {},
   "outputs": [],
   "source": [
    "X_train, y_train, X_test, y_test = read_and_split('../data/tweets.csv')"
   ]
  },
  {
   "cell_type": "markdown",
   "metadata": {},
   "source": [
    "# Target classes distribution"
   ]
  },
  {
   "cell_type": "code",
   "execution_count": 3,
   "metadata": {},
   "outputs": [
    {
     "data": {
      "image/png": "[encoded data removed]",
      "text/plain": [
       "<Figure size 640x480 with 1 Axes>"
      ]
     },
     "metadata": {},
     "output_type": "display_data"
    }
   ],
   "source": [
    "# create plot of class distribution\n",
    "fig, ax = plt.subplots()\n",
    "y_train.value_counts().plot(kind='bar', ax=ax)\n",
    "ax.set_title('Class distribution in training data')\n",
    "ax.set_xlabel('Class')\n",
    "ax.set_ylabel('Number of tweets')\n",
    "plt.show()"
   ]
  },
  {
   "cell_type": "markdown",
   "metadata": {},
   "source": [
    "Both classes are equally represented in the dataset."
   ]
  },
  {
   "cell_type": "markdown",
   "metadata": {},
   "source": [
    "# Processing"
   ]
  },
  {
   "cell_type": "markdown",
   "metadata": {},
   "source": [
    "## Text cleaning\n",
    "This will include transforming text to lowercase, replacing emojis, removing mentions, hashtags and URLs, and replacing multiple spaces with a single space."
   ]
  },
  {
   "cell_type": "code",
   "execution_count": 27,
   "metadata": {},
   "outputs": [
    {
     "name": "stdout",
     "output_type": "stream",
     "text": [
      "Before: @syncerepapi im feelin better thanx suga! me and chick calmed down, im listening to jimi hendrix &amp; sketching  \n",
      "After:  im feelin better thanx suga! me and chick calmed down, im listening to jimi hendrix &amp; sketching \n"
     ]
    }
   ],
   "source": [
    "example_tweet = X_train.iloc[random.randint(0, len(X_train) - 1)]['text']\n",
    "after_processing = clean_text(example_tweet)\n",
    "\n",
    "print(f'Before: {example_tweet} \\nAfter: {after_processing}')"
   ]
  },
  {
   "cell_type": "markdown",
   "metadata": {},
   "source": [
    "## Tokenization"
   ]
  },
  {
   "cell_type": "markdown",
   "metadata": {},
   "source": [
    "Tokenization is the process of splitting text into individual words or tokens. After tokenization we extract tokens that consist only of only alphabetic characters."
   ]
  },
  {
   "cell_type": "code",
   "execution_count": 11,
   "metadata": {},
   "outputs": [],
   "source": [
    "# download punkt"
   ]
  },
  {
   "cell_type": "code",
   "execution_count": 28,
   "metadata": {},
   "outputs": [
    {
     "name": "stdout",
     "output_type": "stream",
     "text": [
      "Before:  im feelin better thanx suga! me and chick calmed down, im listening to jimi hendrix &amp; sketching  \n",
      "After: ['im', 'feelin', 'better', 'thanx', 'suga', 'me', 'and', 'chick', 'calmed', 'down', 'im', 'listening', 'to', 'jimi', 'hendrix', 'amp', 'sketching']\n"
     ]
    }
   ],
   "source": [
    "after_tokenization = tokenize(after_processing)\n",
    "words_extracted = extract_correct_words(after_tokenization)\n",
    "print(f'Before: {after_processing} \\nAfter: {words_extracted}')"
   ]
  },
  {
   "cell_type": "markdown",
   "metadata": {},
   "source": [
    "## Removing stop words"
   ]
  },
  {
   "cell_type": "markdown",
   "metadata": {},
   "source": [
    "Stop words are considered to have little semantic value because they are so frequent and do not contribute significantly to the meaning or the structure of the text. Examples of stop words in English include \"the\" \"is\" \"in\" \"and\" \"a\" \"an\" and \"of.\"\n",
    "\n",
    "Removing stop words can help reduce the dimensionality of the data and improve the performance the model by focusing on the more meaningful words that are more likely to carry important information."
   ]
  },
  {
   "cell_type": "code",
   "execution_count": 29,
   "metadata": {},
   "outputs": [
    {
     "name": "stdout",
     "output_type": "stream",
     "text": [
      "Before: ['im', 'feelin', 'better', 'thanx', 'suga', 'me', 'and', 'chick', 'calmed', 'down', 'im', 'listening', 'to', 'jimi', 'hendrix', 'amp', 'sketching'] \n",
      "After: ['im', 'feelin', 'better', 'thanx', 'suga', 'chick', 'calmed', 'im', 'listening', 'jimi', 'hendrix', 'amp', 'sketching']\n"
     ]
    }
   ],
   "source": [
    "after_filtration = remove_stop_words(words_extracted)\n",
    "print(f'Before: {words_extracted} \\nAfter: {after_filtration}')"
   ]
  },
  {
   "cell_type": "markdown",
   "metadata": {},
   "source": [
    "## Stemming"
   ]
  },
  {
   "cell_type": "markdown",
   "metadata": {},
   "source": [
    "Stemming is a text preprocessing technique used in natural language processing (NLP) to reduce words to their base or root form. It involves removing suffixes from words to obtain the stem, which may not always be a valid word itself. The purpose of stemming is to normalize words and reduce them to a common form, so that variations of the same word can be treated as the same word during analysis.\n",
    "\n",
    "Lemmatization is a similar process with its advantages, but it comes at the price of being more resource-consuming. Hence, for our real-time use case, we choose the stemming algorithm."
   ]
  },
  {
   "cell_type": "code",
   "execution_count": 30,
   "metadata": {},
   "outputs": [
    {
     "name": "stdout",
     "output_type": "stream",
     "text": [
      "Before: ['im', 'feelin', 'better', 'thanx', 'suga', 'chick', 'calmed', 'im', 'listening', 'jimi', 'hendrix', 'amp', 'sketching'] \n",
      "After: ['im', 'feelin', 'better', 'thanx', 'suga', 'chick', 'calm', 'im', 'listen', 'jimi', 'hendrix', 'amp', 'sketch']\n"
     ]
    }
   ],
   "source": [
    "after_stemming = stem_words(after_filtration)\n",
    "print(f'Before: {after_filtration} \\nAfter: {after_stemming}')"
   ]
  },
  {
   "cell_type": "markdown",
   "metadata": {},
   "source": [
    "# Creating dictionary of words"
   ]
  },
  {
   "cell_type": "code",
   "execution_count": null,
   "metadata": {},
   "outputs": [],
   "source": []
  }
 ],
 "metadata": {
  "kernelspec": {
   "display_name": "venv",
   "language": "python",
   "name": "python3"
  },
  "language_info": {
   "codemirror_mode": {
    "name": "ipython",
    "version": 3
   },
   "file_extension": ".py",
   "mimetype": "text/x-python",
   "name": "python",
   "nbconvert_exporter": "python",
   "pygments_lexer": "ipython3",
   "version": "3.10.12"
  }
 },
 "nbformat": 4,
 "nbformat_minor": 2
}
